{
 "cells": [
  {
   "cell_type": "code",
   "execution_count": null,
   "metadata": {
    "tags": [
     "parameters"
    ]
   },
   "outputs": [],
   "source": [
    "flex_subtitle = \"built using jupyter-flex\"\n",
    "flex_external_link = \"https://github.com/STEVENGOBAMI/openfoods/blob/main/P03_01_dashboard.ipynb\"\n",
    "\n",
    "flex_title = \"DASHBOARD\"\n",
    "flex_orientation = \"rows\""
   ]
  },
  {
   "cell_type": "markdown",
   "metadata": {},
   "source": [
    "# ANALYSE UNIVARIEE"
   ]
  },
  {
   "cell_type": "markdown",
   "metadata": {
    "tags": []
   },
   "source": [
    "## Row 1"
   ]
  },
  {
   "cell_type": "markdown",
   "metadata": {},
   "source": [
    "### Top 20 des contributeurs"
   ]
  },
  {
   "cell_type": "code",
   "execution_count": null,
   "metadata": {
    "tags": [
     "source"
    ]
   },
   "outputs": [],
   "source": [
    "# Importation des différentes librairies\n",
    "\n",
    "import pandas as pd\n",
    "import numpy as np\n",
    "import matplotlib.pyplot as plt\n",
    "import seaborn as sns\n",
    "import plotly.express as px\n",
    "import plotly.graph_objects as go\n",
    "from plotly.subplots import make_subplots\n",
    "import plotly.figure_factory as ff\n",
    "import statsmodels.api as sm\n",
    "from sklearn import decomposition, preprocessing"
   ]
  },
  {
   "cell_type": "code",
   "execution_count": null,
   "metadata": {
    "tags": [
     "source"
    ]
   },
   "outputs": [],
   "source": [
    "data_fr = pd.read_csv(\"data_fr.csv\",sep=\",\",low_memory=False)"
   ]
  },
  {
   "cell_type": "code",
   "execution_count": null,
   "metadata": {
    "tags": [
     "source"
    ]
   },
   "outputs": [],
   "source": [
    "data_fr.shape"
   ]
  },
  {
   "cell_type": "code",
   "execution_count": null,
   "metadata": {
    "tags": [
     "body"
    ]
   },
   "outputs": [],
   "source": [
    "fig = px.bar(data_fr['creator'].value_counts().head(20).sort_values(), orientation =\"h\", text = \"value\")\n",
    "\n",
    "fig.update_traces(texttemplate='%{text:.2s}', textposition='outside')\n",
    "\n",
    "fig.update_layout(\n",
    "    title_text=\"Top 20 des contributeurs\",\n",
    "    width=950,\n",
    "    height=600,\n",
    "    showlegend = False,\n",
    "    yaxis_title=\"Contributeurs\",\n",
    "    xaxis_title=\" \"\n",
    ")\n",
    "fig.show()"
   ]
  },
  {
   "cell_type": "markdown",
   "metadata": {},
   "source": [
    "### Part de chaque Nutriscore"
   ]
  },
  {
   "cell_type": "code",
   "execution_count": null,
   "metadata": {
    "tags": [
     "source"
    ]
   },
   "outputs": [],
   "source": [
    "positive_columns = [\n",
    "        \"energy_100g\", \"proteins_100g\", \"salt_100g\", \"sodium_100g\",\n",
    "        \"sugars_100g\", \"saturated-fat_100g\", \"additives_n\", \"fat_100g\", \n",
    "         \"carbohydrates_100g\", \"fiber_100g\", \"fruits-vegetables-nuts_100g\",\n",
    "]"
   ]
  },
  {
   "cell_type": "code",
   "execution_count": null,
   "metadata": {
    "tags": [
     "source"
    ]
   },
   "outputs": [],
   "source": [
    "nutri_fact_100g = [\"proteins_100g\", \"salt_100g\", \"sodium_100g\", \"sugars_100g\", \"saturated-fat_100g\", \n",
    "                \"fat_100g\", \"carbohydrates_100g\", \"fiber_100g\", \"fruits-vegetables-nuts_100g\"]"
   ]
  },
  {
   "cell_type": "code",
   "execution_count": null,
   "metadata": {
    "scrolled": false,
    "tags": [
     "body"
    ]
   },
   "outputs": [],
   "source": [
    "fig = go.Figure(go.Pie(\n",
    "    labels=data_fr['nutrition_grade_fr'].value_counts().index, \n",
    "    values=data_fr['nutrition_grade_fr'].value_counts().values,\n",
    "    textinfo = \"label+percent\", hole = 0.3)\n",
    ")\n",
    "\n",
    "fig.update_traces(marker=dict(colors=['#ff7f00', 'yellow', '#ff4500', 'green', '#82c46c']))\n",
    "\n",
    "fig.update_layout(\n",
    "    title_text=\" \",\n",
    "    showlegend = False,\n",
    "    width=500,\n",
    "    height=500)\n",
    "    #annotations=[dict(text=\"Top 10 et Autres\", x=0.15, y=0.5, font_size=15, showarrow=False)])\n",
    "\n",
    "\n",
    "fig.show()\n",
    "\n",
    "# Les produits notés d sont les plus représentés et ceux notés b sont les moins représentés"
   ]
  },
  {
   "cell_type": "markdown",
   "metadata": {},
   "source": [
    "# ANALYSE UNIVARIEE 2"
   ]
  },
  {
   "cell_type": "markdown",
   "metadata": {},
   "source": [
    "## Row 1"
   ]
  },
  {
   "cell_type": "markdown",
   "metadata": {},
   "source": [
    "### Top 20 et les Autres"
   ]
  },
  {
   "cell_type": "code",
   "execution_count": null,
   "metadata": {
    "scrolled": true,
    "tags": [
     "body"
    ]
   },
   "outputs": [],
   "source": [
    "data_fr.loc[:,'top_category'] = data_fr['main_category_fr'].where(\n",
    "    data_fr['main_category_fr'].isna() | data_fr['main_category_fr'].isin(data_fr['main_category_fr'].value_counts().index[:20]), \n",
    "    other='Autres', \n",
    ")\n",
    "\n",
    "fig = go.Figure(go.Pie(\n",
    "    labels=data_fr['top_category'].value_counts().index, \n",
    "    values=data_fr['top_category'].value_counts().values, \n",
    "    textinfo = \"label+percent\",\n",
    "    textposition=\"inside\",\n",
    "    pull=[0.05 if cat == 'Autres' else 0 for cat in data_fr['top_category'].value_counts().index])\n",
    ")\n",
    "\n",
    "fig.update_layout(\n",
    "    #title_text=\"Top 20 et les Autres\",\n",
    "    showlegend = False,\n",
    "    width=600,\n",
    "    height=600)\n",
    "\n",
    "fig.show()"
   ]
  },
  {
   "cell_type": "markdown",
   "metadata": {},
   "source": [
    "### Répartition du Top 20"
   ]
  },
  {
   "cell_type": "code",
   "execution_count": null,
   "metadata": {
    "tags": [
     "body"
    ]
   },
   "outputs": [],
   "source": [
    "fig = go.Figure(go.Pie(\n",
    "    labels=data_fr['top_category'].value_counts().index[1:], \n",
    "    values=data_fr['top_category'].value_counts().values[1:], \n",
    "    textinfo = \"label+percent\",\n",
    "    textposition=\"inside\",)\n",
    ")\n",
    "\n",
    "fig.update_traces(hole=.3)\n",
    "\n",
    "fig.update_layout(\n",
    "    #title_text=\"Répartition du Top 20\",\n",
    "    showlegend = False,\n",
    "    width=600,\n",
    "    height=600)\n",
    "\n",
    "fig.show()"
   ]
  },
  {
   "cell_type": "markdown",
   "metadata": {},
   "source": [
    "# ANALYSE MULTIVARIEE"
   ]
  },
  {
   "cell_type": "markdown",
   "metadata": {},
   "source": [
    "## Row 1"
   ]
  },
  {
   "cell_type": "markdown",
   "metadata": {},
   "source": [
    "### Matrice des corrélations"
   ]
  },
  {
   "cell_type": "code",
   "execution_count": null,
   "metadata": {
    "tags": [
     "source"
    ]
   },
   "outputs": [],
   "source": [
    "numeric_columns = [\n",
    "        \"additives_n\", \"energy_100g\", \"proteins_100g\", \"fat_100g\", \"salt_100g\", \"sodium_100g\", \n",
    "        \"sugars_100g\", \"saturated-fat_100g\", \"carbohydrates_100g\",  \"fiber_100g\",\n",
    "        \"nutrition-score-fr_100g\", \"nutrition-score-uk_100g\", \"fruits-vegetables-nuts_100g\"\n",
    "]"
   ]
  },
  {
   "cell_type": "code",
   "execution_count": null,
   "metadata": {
    "tags": [
     "source"
    ]
   },
   "outputs": [],
   "source": [
    "new_numeric_columns = [\n",
    "        \"additives_n\", \"energy_100g\", \"saturated-fat_100g\", \"sugars_100g\",\n",
    "        \"fiber_100g\", \"proteins_100g\", \"salt_100g\", \"fruits-vegetables-nuts_100g\", \n",
    "        \"nutrition-score-fr_100g\"\n",
    "]"
   ]
  },
  {
   "cell_type": "code",
   "execution_count": null,
   "metadata": {
    "tags": [
     "body"
    ]
   },
   "outputs": [],
   "source": [
    "corr = data_fr[numeric_columns].corr().round(2)\n",
    "\n",
    "fig = px.imshow(corr.where(np.tril(np.ones(corr.shape), -1).astype(bool)),\n",
    "    #title=\"Corrélation de Pearson\",\n",
    "    width=1000,\n",
    "    height=600\n",
    ")\n",
    "\n",
    "    \n",
    "fig.show()"
   ]
  },
  {
   "cell_type": "markdown",
   "metadata": {},
   "source": [
    "### Boxplot Nutriscore par nutriment"
   ]
  },
  {
   "cell_type": "code",
   "execution_count": null,
   "metadata": {
    "tags": [
     "source"
    ]
   },
   "outputs": [],
   "source": [
    "filtered_data = data_fr[data_fr[[\"nutrition_grade_fr\",\"nutrition-score-fr_100g\"]].notnull().all(1)]"
   ]
  },
  {
   "cell_type": "code",
   "execution_count": null,
   "metadata": {
    "tags": [
     "source"
    ]
   },
   "outputs": [],
   "source": [
    "def boxtrace(df, n_cols=3, x=\"nutrition_grade_fr\"):\n",
    "    n_rows = -(-len(new_numeric_columns) // n_cols)\n",
    "    row_pos, col_pos = 1, 0\n",
    "    fig = make_subplots(rows=n_rows, cols=n_cols, subplot_titles=new_numeric_columns)\n",
    "\n",
    "    for col in new_numeric_columns:\n",
    "        trace = px.box(filtered_data, x=x, y=col,  color=\"nutrition_grade_fr\",\n",
    "        category_orders={ \"nutrition_grade_fr\": [\"a\", \"b\", \"c\", \"d\", \"e\"]},\n",
    "        color_discrete_map={\"a\":\"green\", \"b\":\"#82c46c\", \"c\":\"yellow\", \"d\":\"#ff7f00\", \"e\":\"#ff4500\"})[\"data\"]\n",
    "        \n",
    "        if col_pos == n_cols: row_pos += 1\n",
    "        col_pos = col_pos + 1 if (col_pos < n_cols) else 1\n",
    "        fig.add_trace(trace[0], row=row_pos, col=col_pos)\n",
    "        fig.add_trace(trace[1], row=row_pos, col=col_pos)\n",
    "        fig.add_trace(trace[2], row=row_pos, col=col_pos)\n",
    "        fig.add_trace(trace[3], row=row_pos, col=col_pos)\n",
    "        fig.add_trace(trace[4], row=row_pos, col=col_pos)\n",
    "\n",
    "        \n",
    "    return fig"
   ]
  },
  {
   "cell_type": "code",
   "execution_count": null,
   "metadata": {
    "tags": [
     "body"
    ]
   },
   "outputs": [],
   "source": [
    "fig = boxtrace(filtered_data)\n",
    "\n",
    "fig.update_layout(width=1000,\n",
    "                   height=600, \n",
    "                   #title=\"Variation du Nutriscore en fonction des nutriments\",\n",
    "                   title_x=0.5,\n",
    "                   showlegend = False\n",
    "                  )\n",
    "\n",
    "fig.show()"
   ]
  }
 ],
 "metadata": {
  "celltoolbar": "Tags",
  "kernelspec": {
   "display_name": "Python 3 (ipykernel)",
   "language": "python",
   "name": "python3"
  },
  "language_info": {
   "codemirror_mode": {
    "name": "ipython",
    "version": 3
   },
   "file_extension": ".py",
   "mimetype": "text/x-python",
   "name": "python",
   "nbconvert_exporter": "python",
   "pygments_lexer": "ipython3",
   "version": "3.8.11"
  }
 },
 "nbformat": 4,
 "nbformat_minor": 4
}
